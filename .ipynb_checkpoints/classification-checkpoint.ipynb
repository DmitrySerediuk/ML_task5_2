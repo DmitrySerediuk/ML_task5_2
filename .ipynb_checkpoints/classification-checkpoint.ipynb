{
 "cells": [
  {
   "cell_type": "markdown",
   "metadata": {},
   "source": [
    "# Classification. Linear models and KNN"
   ]
  },
  {
   "cell_type": "code",
   "execution_count": 69,
   "metadata": {},
   "outputs": [],
   "source": [
    "import os\n",
    "import numpy as np\n",
    "import pandas as pd\n",
    "import seaborn as sns\n",
    "import matplotlib.pyplot as plt"
   ]
  },
  {
   "cell_type": "code",
   "execution_count": 70,
   "metadata": {},
   "outputs": [],
   "source": [
    "from sklearn.pipeline import Pipeline\n",
    "from sklearn.compose import ColumnTransformer\n",
    "from sklearn.model_selection import train_test_split, cross_validate\n",
    "from sklearn.metrics import plot_confusion_matrix, accuracy_score\n",
    "from sklearn.linear_model import SGDClassifier\n",
    "from sklearn.preprocessing import StandardScaler, OneHotEncoder"
   ]
  },
  {
   "cell_type": "markdown",
   "metadata": {},
   "source": [
    "## Part 1: Titanic survival prediction"
   ]
  },
  {
   "cell_type": "markdown",
   "metadata": {},
   "source": [
    "### Dataset\n",
    "\n",
    "Read the description here: https://www.kaggle.com/c/titanic/data. Download the dataset and place it in the *data/titanic/* folder in your working directory.\n",
    "You will use train.csv for model training and validation. The test set is used for model testing: once the model is trained, you can predict whether a passenger survived or not for each passenger in the test set, and submit the predictions: https://www.kaggle.com/c/titanic/overview/evaluation.  \n"
   ]
  },
  {
   "cell_type": "code",
   "execution_count": 71,
   "metadata": {},
   "outputs": [],
   "source": [
    "PATH = \"./data/\""
   ]
  },
  {
   "cell_type": "code",
   "execution_count": 72,
   "metadata": {},
   "outputs": [],
   "source": [
    "data = pd.read_csv(os.path.join(PATH, 'titanic', 'train.csv')).set_index('PassengerId')"
   ]
  },
  {
   "cell_type": "code",
   "execution_count": 73,
   "metadata": {
    "scrolled": true
   },
   "outputs": [
    {
     "data": {
      "text/html": [
       "<div>\n",
       "<style scoped>\n",
       "    .dataframe tbody tr th:only-of-type {\n",
       "        vertical-align: middle;\n",
       "    }\n",
       "\n",
       "    .dataframe tbody tr th {\n",
       "        vertical-align: top;\n",
       "    }\n",
       "\n",
       "    .dataframe thead th {\n",
       "        text-align: right;\n",
       "    }\n",
       "</style>\n",
       "<table border=\"1\" class=\"dataframe\">\n",
       "  <thead>\n",
       "    <tr style=\"text-align: right;\">\n",
       "      <th></th>\n",
       "      <th>Survived</th>\n",
       "      <th>Pclass</th>\n",
       "      <th>Name</th>\n",
       "      <th>Sex</th>\n",
       "      <th>Age</th>\n",
       "      <th>SibSp</th>\n",
       "      <th>Parch</th>\n",
       "      <th>Ticket</th>\n",
       "      <th>Fare</th>\n",
       "      <th>Cabin</th>\n",
       "      <th>Embarked</th>\n",
       "    </tr>\n",
       "    <tr>\n",
       "      <th>PassengerId</th>\n",
       "      <th></th>\n",
       "      <th></th>\n",
       "      <th></th>\n",
       "      <th></th>\n",
       "      <th></th>\n",
       "      <th></th>\n",
       "      <th></th>\n",
       "      <th></th>\n",
       "      <th></th>\n",
       "      <th></th>\n",
       "      <th></th>\n",
       "    </tr>\n",
       "  </thead>\n",
       "  <tbody>\n",
       "    <tr>\n",
       "      <th>1</th>\n",
       "      <td>0</td>\n",
       "      <td>3</td>\n",
       "      <td>Braund, Mr. Owen Harris</td>\n",
       "      <td>male</td>\n",
       "      <td>22.0</td>\n",
       "      <td>1</td>\n",
       "      <td>0</td>\n",
       "      <td>A/5 21171</td>\n",
       "      <td>7.2500</td>\n",
       "      <td>NaN</td>\n",
       "      <td>S</td>\n",
       "    </tr>\n",
       "    <tr>\n",
       "      <th>2</th>\n",
       "      <td>1</td>\n",
       "      <td>1</td>\n",
       "      <td>Cumings, Mrs. John Bradley (Florence Briggs Th...</td>\n",
       "      <td>female</td>\n",
       "      <td>38.0</td>\n",
       "      <td>1</td>\n",
       "      <td>0</td>\n",
       "      <td>PC 17599</td>\n",
       "      <td>71.2833</td>\n",
       "      <td>C85</td>\n",
       "      <td>C</td>\n",
       "    </tr>\n",
       "    <tr>\n",
       "      <th>3</th>\n",
       "      <td>1</td>\n",
       "      <td>3</td>\n",
       "      <td>Heikkinen, Miss. Laina</td>\n",
       "      <td>female</td>\n",
       "      <td>26.0</td>\n",
       "      <td>0</td>\n",
       "      <td>0</td>\n",
       "      <td>STON/O2. 3101282</td>\n",
       "      <td>7.9250</td>\n",
       "      <td>NaN</td>\n",
       "      <td>S</td>\n",
       "    </tr>\n",
       "    <tr>\n",
       "      <th>4</th>\n",
       "      <td>1</td>\n",
       "      <td>1</td>\n",
       "      <td>Futrelle, Mrs. Jacques Heath (Lily May Peel)</td>\n",
       "      <td>female</td>\n",
       "      <td>35.0</td>\n",
       "      <td>1</td>\n",
       "      <td>0</td>\n",
       "      <td>113803</td>\n",
       "      <td>53.1000</td>\n",
       "      <td>C123</td>\n",
       "      <td>S</td>\n",
       "    </tr>\n",
       "    <tr>\n",
       "      <th>5</th>\n",
       "      <td>0</td>\n",
       "      <td>3</td>\n",
       "      <td>Allen, Mr. William Henry</td>\n",
       "      <td>male</td>\n",
       "      <td>35.0</td>\n",
       "      <td>0</td>\n",
       "      <td>0</td>\n",
       "      <td>373450</td>\n",
       "      <td>8.0500</td>\n",
       "      <td>NaN</td>\n",
       "      <td>S</td>\n",
       "    </tr>\n",
       "  </tbody>\n",
       "</table>\n",
       "</div>"
      ],
      "text/plain": [
       "             Survived  Pclass  \\\n",
       "PassengerId                     \n",
       "1                   0       3   \n",
       "2                   1       1   \n",
       "3                   1       3   \n",
       "4                   1       1   \n",
       "5                   0       3   \n",
       "\n",
       "                                                          Name     Sex   Age  \\\n",
       "PassengerId                                                                    \n",
       "1                                      Braund, Mr. Owen Harris    male  22.0   \n",
       "2            Cumings, Mrs. John Bradley (Florence Briggs Th...  female  38.0   \n",
       "3                                       Heikkinen, Miss. Laina  female  26.0   \n",
       "4                 Futrelle, Mrs. Jacques Heath (Lily May Peel)  female  35.0   \n",
       "5                                     Allen, Mr. William Henry    male  35.0   \n",
       "\n",
       "             SibSp  Parch            Ticket     Fare Cabin Embarked  \n",
       "PassengerId                                                          \n",
       "1                1      0         A/5 21171   7.2500   NaN        S  \n",
       "2                1      0          PC 17599  71.2833   C85        C  \n",
       "3                0      0  STON/O2. 3101282   7.9250   NaN        S  \n",
       "4                1      0            113803  53.1000  C123        S  \n",
       "5                0      0            373450   8.0500   NaN        S  "
      ]
     },
     "execution_count": 73,
     "metadata": {},
     "output_type": "execute_result"
    }
   ],
   "source": [
    "data.head()"
   ]
  },
  {
   "cell_type": "markdown",
   "metadata": {},
   "source": [
    "### EDA"
   ]
  },
  {
   "cell_type": "markdown",
   "metadata": {},
   "source": [
    "**(0.5 points)** How many females and males are there in the dataset? What about the survived passengers? Is there any relationship between the gender and the survival?"
   ]
  },
  {
   "cell_type": "code",
   "execution_count": 74,
   "metadata": {},
   "outputs": [
    {
     "name": "stdout",
     "output_type": "stream",
     "text": [
      "Total females: 314, males 577\n",
      "Survived females: 233(74%), males 109(19%)\n"
     ]
    },
    {
     "data": {
      "image/png": "[encoded data removed]",
      "text/plain": [
       "<Figure size 432x288 with 1 Axes>"
      ]
     },
     "metadata": {
      "needs_background": "light"
     },
     "output_type": "display_data"
    }
   ],
   "source": [
    "## your code\n",
    "females = data[data['Sex'] == 'female']\n",
    "males   = data[data['Sex'] == 'male']\n",
    "print('Total females: {}, males {}'.format(females.shape[0], males.shape[0]))\n",
    "\n",
    "survived_females = females[females['Survived'] == 1]\n",
    "survived_males = males[males['Survived'] == 1]\n",
    "print('Survived females: {}({}%), males {}({}%)'.format(\n",
    "            survived_females.shape[0],\n",
    "            round(survived_females.shape[0]/females.shape[0]*100), \n",
    "            survived_males.shape[0],\n",
    "            round(survived_males.shape[0]/males.shape[0]*100),\n",
    "))\n",
    "\n",
    "\n",
    "plt.bar(['males', 'females'], [males.shape[0], females.shape[0]], label='Total passagers')\n",
    "plt.bar(['males', 'females'], [survived_males.shape[0], survived_females.shape[0]], label='Survived passagers')\n",
    "plt.ylabel('Count passagers')\n",
    "plt.xlabel('Genders')\n",
    "plt.title('Passagers on the Titanic:')\n",
    "plt.legend()\n",
    "plt.show()"
   ]
  },
  {
   "cell_type": "markdown",
   "metadata": {},
   "source": [
    "Decision:\n",
    "**Place in boat were shared predominantly between women's. On the board titanic was a real men, who gave the place in the boat to women's**"
   ]
  },
  {
   "cell_type": "markdown",
   "metadata": {},
   "source": [
    "**(0.5 points)** Plot age distribution of the passengers. What is the average and the median age of survived and deceased passengers? Do age distributions differ for survived and deceased passengers? Why?"
   ]
  },
  {
   "cell_type": "code",
   "execution_count": 75,
   "metadata": {},
   "outputs": [
    {
     "data": {
      "image/png": "[encoded data removed]",
      "text/plain": [
       "<Figure size 432x288 with 1 Axes>"
      ]
     },
     "metadata": {
      "needs_background": "light"
     },
     "output_type": "display_data"
    },
    {
     "data": {
      "image/png": "[encoded data removed]",
      "text/plain": [
       "<Figure size 432x288 with 1 Axes>"
      ]
     },
     "metadata": {
      "needs_background": "light"
     },
     "output_type": "display_data"
    }
   ],
   "source": [
    "## your code\n",
    "ages = data[['Age']].iloc[0:]\n",
    "ages['Survived'] = data[data['Survived'] == 1][['Age']].iloc[0:]\n",
    "ages.plot.hist(bins=12, alpha=0.5)\n",
    "\n",
    "plt.ylabel('Count passagers')\n",
    "plt.xlabel('Ages')\n",
    "plt.show()\n",
    "\n",
    "avg = ages['Age'].mean()\n",
    "median = ages['Age'].median()\n",
    "survived_avg = ages['Survived'].mean()\n",
    "survived_median = ages['Survived'].median()\n",
    "\n",
    "\n",
    "plt.bar(['mean', 'mean_survived', 'median', 'median_survived'], [avg, survived_avg, median, survived_median])\n",
    "\n",
    "plt.ylabel('Ages')\n",
    "plt.title('Passagers on the Titanic:')\n",
    "\n",
    "plt.show()\n",
    "\n"
   ]
  },
  {
   "cell_type": "markdown",
   "metadata": {},
   "source": [
    "< your thoughts >\n",
    "Do age distributions differ for survived and deceased passengers? Why?\n",
    "Mean and median ages almost the same for all passagers and survived passagers. The percentage of survivors is evenly distributed by age in relation to the total number of passengers \n",
    "The average age of the survivors is slightly less because it is easier for young people to tolerate hypothermia "
   ]
  },
  {
   "cell_type": "markdown",
   "metadata": {},
   "source": [
    "**(1 point)** Explore \"passenger class\" and \"embarked\" features. What class was \"the safest\"? Is there any relationship between the embarkation port and the survival? Provide the corresponding visualizations."
   ]
  },
  {
   "cell_type": "code",
   "execution_count": 76,
   "metadata": {},
   "outputs": [
    {
     "data": {
      "image/png": "[encoded data removed]",
      "text/plain": [
       "<Figure size 432x288 with 1 Axes>"
      ]
     },
     "metadata": {
      "needs_background": "light"
     },
     "output_type": "display_data"
    },
    {
     "data": {
      "image/png": "[encoded data removed]",
      "text/plain": [
       "<Figure size 432x288 with 1 Axes>"
      ]
     },
     "metadata": {
      "needs_background": "light"
     },
     "output_type": "display_data"
    }
   ],
   "source": [
    "## your code\n",
    "\n",
    "passagersByClass = data['Pclass'].value_counts(dropna=False)\n",
    "passagersByClassSurvived = data[data['Survived'] == 1]['Pclass'].value_counts(dropna=False)\n",
    "\n",
    "plt.bar(passagersByClass.keys(), passagersByClass.values, label='Total passagers')\n",
    "plt.bar(passagersByClassSurvived.keys(), passagersByClassSurvived.values, label='Survived passagers')\n",
    "\n",
    "for key in passagersByClass.keys():\n",
    "    plt.text(key-0.1, passagersByClassSurvived[key]+10, str(round(passagersByClassSurvived[key]/passagersByClass[key]*100))+'%')\n",
    "\n",
    "    \n",
    "plt.ylabel('Count passagers')\n",
    "plt.xlabel('Class')\n",
    "plt.title('Passagers on the Titanic by class:')\n",
    "plt.legend()\n",
    "plt.show()\n",
    "\n",
    "\n",
    "passagersByEmbarked = data['Embarked'].value_counts(dropna=True)\n",
    "passagersByEmbarkedSurvived = data[data['Survived'] == 1]['Embarked'].value_counts(dropna=True)\n",
    "\n",
    "\n",
    "plt.bar(passagersByEmbarked.keys(), passagersByEmbarked.values, label='Total passagers')\n",
    "plt.bar(passagersByEmbarkedSurvived.keys(), passagersByEmbarkedSurvived.values, label='Survived passagers')\n",
    "tcount = 0\n",
    "for key in passagersByEmbarked.keys():\n",
    "    plt.text(tcount-0.1, passagersByEmbarkedSurvived[key]+10, str(round(passagersByEmbarkedSurvived[key]/passagersByEmbarked[key]*100))+'%')\n",
    "    tcount +=1\n",
    "    \n",
    "plt.ylabel('Count passagers')\n",
    "plt.xlabel('Embarked')\n",
    "plt.title('Passagers on the Titanic by Embarked:')\n",
    "plt.legend()\n",
    "\n",
    "plt.show()\n"
   ]
  },
  {
   "cell_type": "markdown",
   "metadata": {},
   "source": [
    "< your thoughts >\n",
    "\n",
    "Explore \"passenger class\" and \"embarked\" features. What class was \"the safest\"? Is there any relationship between the embarkation port and the survival? Provide the corresponding visualizations.\n",
    "\n",
    "First class was most survive. Third class was most dangeros.\n",
    "From С Embarked is most safe place. "
   ]
  },
  {
   "cell_type": "markdown",
   "metadata": {},
   "source": [
    "### Modelling"
   ]
  },
  {
   "cell_type": "markdown",
   "metadata": {},
   "source": [
    "**(0.5 points)** Find the percentage of missing values for each feature. "
   ]
  },
  {
   "cell_type": "code",
   "execution_count": 77,
   "metadata": {},
   "outputs": [
    {
     "data": {
      "text/html": [
       "<div>\n",
       "<style scoped>\n",
       "    .dataframe tbody tr th:only-of-type {\n",
       "        vertical-align: middle;\n",
       "    }\n",
       "\n",
       "    .dataframe tbody tr th {\n",
       "        vertical-align: top;\n",
       "    }\n",
       "\n",
       "    .dataframe thead th {\n",
       "        text-align: right;\n",
       "    }\n",
       "</style>\n",
       "<table border=\"1\" class=\"dataframe\">\n",
       "  <thead>\n",
       "    <tr style=\"text-align: right;\">\n",
       "      <th></th>\n",
       "      <th>column_name</th>\n",
       "      <th>percent_missing</th>\n",
       "    </tr>\n",
       "  </thead>\n",
       "  <tbody>\n",
       "    <tr>\n",
       "      <th>Cabin</th>\n",
       "      <td>Cabin</td>\n",
       "      <td>0.771044</td>\n",
       "    </tr>\n",
       "    <tr>\n",
       "      <th>Age</th>\n",
       "      <td>Age</td>\n",
       "      <td>0.198653</td>\n",
       "    </tr>\n",
       "    <tr>\n",
       "      <th>Embarked</th>\n",
       "      <td>Embarked</td>\n",
       "      <td>0.002245</td>\n",
       "    </tr>\n",
       "    <tr>\n",
       "      <th>Survived</th>\n",
       "      <td>Survived</td>\n",
       "      <td>0.000000</td>\n",
       "    </tr>\n",
       "    <tr>\n",
       "      <th>Pclass</th>\n",
       "      <td>Pclass</td>\n",
       "      <td>0.000000</td>\n",
       "    </tr>\n",
       "    <tr>\n",
       "      <th>Name</th>\n",
       "      <td>Name</td>\n",
       "      <td>0.000000</td>\n",
       "    </tr>\n",
       "    <tr>\n",
       "      <th>Sex</th>\n",
       "      <td>Sex</td>\n",
       "      <td>0.000000</td>\n",
       "    </tr>\n",
       "    <tr>\n",
       "      <th>SibSp</th>\n",
       "      <td>SibSp</td>\n",
       "      <td>0.000000</td>\n",
       "    </tr>\n",
       "    <tr>\n",
       "      <th>Parch</th>\n",
       "      <td>Parch</td>\n",
       "      <td>0.000000</td>\n",
       "    </tr>\n",
       "    <tr>\n",
       "      <th>Ticket</th>\n",
       "      <td>Ticket</td>\n",
       "      <td>0.000000</td>\n",
       "    </tr>\n",
       "    <tr>\n",
       "      <th>Fare</th>\n",
       "      <td>Fare</td>\n",
       "      <td>0.000000</td>\n",
       "    </tr>\n",
       "  </tbody>\n",
       "</table>\n",
       "</div>"
      ],
      "text/plain": [
       "         column_name  percent_missing\n",
       "Cabin          Cabin         0.771044\n",
       "Age              Age         0.198653\n",
       "Embarked    Embarked         0.002245\n",
       "Survived    Survived         0.000000\n",
       "Pclass        Pclass         0.000000\n",
       "Name            Name         0.000000\n",
       "Sex              Sex         0.000000\n",
       "SibSp          SibSp         0.000000\n",
       "Parch          Parch         0.000000\n",
       "Ticket        Ticket         0.000000\n",
       "Fare            Fare         0.000000"
      ]
     },
     "execution_count": 77,
     "metadata": {},
     "output_type": "execute_result"
    }
   ],
   "source": [
    "## your code\n",
    "percent_missing = data.isnull().mean()\n",
    "\n",
    "missing_value = pd.DataFrame({'column_name': data.columns,\n",
    "                              'percent_missing': percent_missing})\n",
    "\n",
    "missing_value.sort_values('percent_missing', inplace=True, ascending=False)\n",
    "missing_value"
   ]
  },
  {
   "cell_type": "markdown",
   "metadata": {},
   "source": [
    "Think about the ways to handle these missing values for modelling and write your answer below. Which methods would you suggest? What are their advantages and disadvantages?\n",
    "\n",
    "< your thoughts >\n",
    "Embarked we can drop NA data. We have a small count of NA data\n",
    "For Age we can use mean value - it numeric and ages is almost normal distribution\n",
    "For Cabin we drop collumn. We have a lot of NA data(77%), so if we cannot use it\n",
    "\n"
   ]
  },
  {
   "cell_type": "markdown",
   "metadata": {},
   "source": [
    "**(1.5 points)** Prepare the features and train two models (KNN and Logistic Regression) to predict the survival. Compare the results. Use accuracy as a metric. Don't forget about cross-validation!"
   ]
  },
  {
   "cell_type": "code",
   "execution_count": null,
   "metadata": {},
   "outputs": [],
   "source": []
  },
  {
   "cell_type": "code",
   "execution_count": 93,
   "metadata": {},
   "outputs": [
    {
     "name": "stdout",
     "output_type": "stream",
     "text": [
      "Accuracy from lr model: 0.801468\n",
      "Accuracy from knn model: 0.741509\n"
     ]
    }
   ],
   "source": [
    "from sklearn.preprocessing import StandardScaler, MinMaxScaler, OrdinalEncoder, OneHotEncoder\n",
    "\n",
    "from sklearn.ensemble import RandomForestClassifier, RandomForestRegressor\n",
    "from sklearn.linear_model import LogisticRegression\n",
    "from sklearn.cluster import KMeans\n",
    "\n",
    "\n",
    "from sklearn.model_selection import KFold, cross_val_score, train_test_split\n",
    "from sklearn.pipeline import Pipeline, make_pipeline\n",
    "from sklearn.metrics import accuracy_score\n",
    "from sklearn.model_selection import cross_val_score, GridSearchCV\n",
    "\n",
    "#categoral\n",
    "# Pclass\n",
    "# Sex\n",
    "# Embarked\n",
    "\n",
    "#numeric\n",
    "# SibSp\n",
    "# Parch\n",
    "# Fare \n",
    "# Age\n",
    "\n",
    "#drop\n",
    "# Name\n",
    "# Ticket\n",
    "# Cabin\n",
    "# PassengerId\n",
    "\n",
    "\n",
    "def cleanData(data):\n",
    "    titanic_data_dropped = data.drop(['Cabin', 'Ticket', 'Name'], axis=1)\n",
    "    titanic_data_dropped['Age'].fillna((titanic_data_dropped['Age'].mean()), inplace=True)\n",
    "    titanic_data_dropped['Fare'].fillna((titanic_data_dropped['Fare'].mean()), inplace=True)\n",
    "    #titanic_data_dropped['Embarked'].fillna('S', inplace=True) \n",
    "    titanic_data_dropped.dropna(subset=['Embarked'], inplace = True) \n",
    "    \n",
    "    return titanic_data_dropped;\n",
    "\n",
    "def prepareData(data):\n",
    "    cat_property = data[['Pclass', 'Sex', 'Embarked']]\n",
    "    num_property = data[['SibSp', 'Parch', 'Fare', 'Age']]\n",
    "    \n",
    "    encoder = OneHotEncoder()\n",
    "    cat_property = encoder.fit_transform(cat_property).toarray()\n",
    "    \n",
    "    scaler = StandardScaler()\n",
    "    num_property = scaler.fit_transform(num_property)\n",
    "    \n",
    "    summary_data = np.concatenate([num_property, cat_property], axis=1)\n",
    "    \n",
    "    return summary_data\n",
    "\n",
    "def saveResultToCsv(PassengerIdData, SurvivedResult, filename='Titanic Predictions.csv'):\n",
    "    submission = pd.DataFrame({'PassengerId':PassengerIdData.PassengerId,'Survived':SurvivedResult})\n",
    "    submission.Survived = submission.Survived.astype(int)\n",
    "    submission.PassengerId = submission.PassengerId.astype(int)\n",
    "\n",
    "    submission.to_csv(filename,index=False)    \n",
    "\n",
    "    \n",
    "test_data = pd.read_csv(os.path.join(PATH, 'titanic', 'test.csv'))\n",
    "train_data = pd.read_csv(os.path.join(PATH, 'titanic', 'train.csv'))\n",
    "\n",
    "titanic_data_train = cleanData(train_data)\n",
    "\n",
    "titanic_y_train = titanic_data_train['Survived']\n",
    "titanic_data_train.drop(['Survived', 'PassengerId'], axis=1, inplace=True)\n",
    "titanic_data_train_view = titanic_data_train\n",
    "titanic_data_train = prepareData(titanic_data_train)\n",
    "\n",
    "t_train, t_val, t_labels_train, t_labels_val = train_test_split(titanic_data_train, titanic_y_train, \n",
    "                                                                            test_size=0.3, random_state=42)\n",
    "\n",
    "\n",
    "titanic_data_copy  = cleanData(test_data)\n",
    "titanic_data_test = prepareData(titanic_data_copy)\n",
    "\n",
    "\n",
    "lr_model  = LogisticRegression(solver='liblinear', penalty='l1')\n",
    "knn_model = KNeighborsClassifier(n_neighbors = 30, weights= 'uniform')\n",
    "\n",
    "pipe_lr = make_pipeline(lr_model)\n",
    "pipe_lr.fit(t_train, t_labels_train)\n",
    "\n",
    "pipe_knn = make_pipeline(knn_model)\n",
    "pipe_knn.fit(t_train, t_labels_train)\n",
    "\n",
    "print('Accuracy from lr model: {:f}'.format(cross_val_score(pipe_lr, t_val, t_labels_val, \n",
    "                     scoring='accuracy', cv=5).mean()))\n",
    "\n",
    "print('Accuracy from knn model: {:f}'.format(cross_val_score(pipe_knn, t_val, t_labels_val, \n",
    "                     scoring='accuracy', cv=5).mean()))\n",
    "\n",
    "SurvivedResult = pipe_lr.predict(titanic_data_test)\n",
    "saveResultToCsv(titanic_data_copy, SurvivedResult)\n",
    "\n",
    "\n",
    "\n",
    "\n",
    "\n"
   ]
  },
  {
   "cell_type": "markdown",
   "metadata": {},
   "source": [
    "**(0.5 + X points)** Try more feature engineering and hyperparameter tuning to improve the results. You may use either KNN or Logistic Regression (or both)."
   ]
  },
  {
   "cell_type": "code",
   "execution_count": 96,
   "metadata": {},
   "outputs": [
    {
     "name": "stdout",
     "output_type": "stream",
     "text": [
      "Accuracy from lr model: 0.824738\n",
      "Accuracy from lr model: 0.832215\n"
     ]
    }
   ],
   "source": [
    "## your code\n",
    "import sys\n",
    "def cleanData(data):\n",
    "    titanic_data_dropped = data.drop(['Cabin', 'Ticket', 'Name'], axis=1)\n",
    "    titanic_data_dropped['Age'].fillna((titanic_data_dropped['Age'].mean()), inplace=True)\n",
    "    titanic_data_dropped['Fare'].fillna((titanic_data_dropped['Fare'].mean()), inplace=True)\n",
    "    titanic_data_dropped['Embarked'].fillna('S', inplace=True) \n",
    "    \n",
    "    return titanic_data_dropped;\n",
    "\n",
    "def prepareData(data):\n",
    "    cat_property = data[['Pclass', 'Sex', 'Embarked']]\n",
    "    num_property = data[['SibSp',  'Fare', 'Age']]\n",
    "    \n",
    "    encoder = OneHotEncoder()\n",
    "    cat_property = encoder.fit_transform(cat_property).toarray()\n",
    "    \n",
    "    scaler = StandardScaler()\n",
    "    num_property = scaler.fit_transform(num_property)\n",
    "    \n",
    "    summary_data = np.concatenate([num_property, cat_property], axis=1)\n",
    "    \n",
    "    return summary_data\n",
    "\n",
    "\n",
    "\n",
    "test_data = pd.read_csv(os.path.join(PATH, 'titanic', 'test.csv'))\n",
    "train_data = pd.read_csv(os.path.join(PATH, 'titanic', 'train.csv'))\n",
    "\n",
    "total_data = pd.concat([train_data, test_data])\n",
    "total_data = cleanData(total_data)\n",
    "\n",
    "###############\n",
    "\n",
    "data_test = total_data[total_data['Survived'].isna()]\n",
    "data_test_id  = data_test['PassengerId']\n",
    "data_test = data_test.drop(['Survived', 'PassengerId'], axis=1)\n",
    "data_test = prepareData(data_test)\n",
    "\n",
    "###############\n",
    "\n",
    "data_train = total_data[total_data['Survived'].isna() == False]\n",
    "data_y_train = data_train['Survived']\n",
    "data_train = data_train.drop(['Survived', 'PassengerId'], axis=1)\n",
    "\n",
    "data_train = prepareData(data_train)\n",
    "\n",
    "\n",
    "\n",
    "t_train, t_val, t_labels_train, t_labels_val = train_test_split(data_train, data_y_train, \n",
    "                                                                            test_size=0.3, random_state=42)\n",
    "\n",
    "\n",
    "lr_model  = LogisticRegression(solver='liblinear', penalty='l1')\n",
    "knn_model = KNeighborsClassifier(n_neighbors = 25, weights= 'distance')\n",
    "\n",
    "pipe_lr = make_pipeline(lr_model)\n",
    "pipe_lr.fit(data_train, data_y_train)\n",
    "\n",
    "pipe_knn = make_pipeline(knn_model)\n",
    "pipe_knn.fit(t_train, t_labels_train)\n",
    "\n",
    "print('Accuracy from lr model: {:f}'.format(cross_val_score(pipe_lr, t_val, t_labels_val, \n",
    "                     scoring='accuracy', cv=5).mean()))\n",
    "print('Accuracy from lr model: {:f}'.format(cross_val_score(pipe_knn, t_val, t_labels_val, \n",
    "                     scoring='accuracy', cv=5).mean()))\n",
    "\n",
    "data_test_copy  = cleanData(test_data)\n",
    "SurvivedResult = pipe_lr.predict(data_test)\n",
    "SurvivedResultKnn = pipe_knn.predict(data_test)\n",
    "\n",
    "\n"
   ]
  },
  {
   "cell_type": "markdown",
   "metadata": {},
   "source": [
    "Load the test set and make the predictions. Submit them to kaggle and see the results :)\n",
    "Select the best model, load the test set and make the predictions. Submit them to kaggle.\n",
    "\n",
    "**Note**. X points will depend on your kaggle leaderboard score.\n",
    "$$ f(score) = 0.5, \\ \\ 0.79 \\leq score < 0.81,$$\n",
    "$$ f(score) = 1.0, \\ \\ 0.81 \\leq score < 0.83,$$ \n",
    "$$ f(score) = 2.5, \\ \\ 0.83 \\leq score $$ \n",
    "Your code should generate the output submitted to kaggle. Fix random seeds to make the results reproducible."
   ]
  },
  {
   "cell_type": "code",
   "execution_count": 97,
   "metadata": {},
   "outputs": [],
   "source": [
    "## your code\n",
    "saveResultToCsv(data_test_copy, SurvivedResult, 'kaggleSubmit.csv')\n",
    "saveResultToCsv(data_test_copy, SurvivedResultKnn, 'kaggleSubmitKnn.csv')\n",
    "\n",
    "####kaggle best score: \n",
    "# login k0sm0s \n",
    "# best score: 0.77511\n",
    "# f(score) = 0.5 + 0.5\n",
    "\n"
   ]
  },
  {
   "cell_type": "markdown",
   "metadata": {},
   "source": [
    "## Part 2: Porto Seguro’s Safe Driver Prediction"
   ]
  },
  {
   "cell_type": "markdown",
   "metadata": {},
   "source": [
    "Let's build a model that predicts the probability that a driver will initiate an auto insurance claim in the next year.\n",
    "Read the detailed description and download the dataset https://www.kaggle.com/c/porto-seguro-safe-driver-prediction/data. Put the data into *./data/porto/*."
   ]
  },
  {
   "cell_type": "code",
   "execution_count": null,
   "metadata": {},
   "outputs": [],
   "source": [
    "insurance_data = pd.read_csv(os.path.join(PATH, 'porto', 'train.csv')).set_index('id')"
   ]
  },
  {
   "cell_type": "code",
   "execution_count": null,
   "metadata": {},
   "outputs": [],
   "source": [
    "insurance_data.head()"
   ]
  },
  {
   "cell_type": "markdown",
   "metadata": {},
   "source": [
    "Let's skip EDA for now. We'll use SGDClassifier and build a simple baseline: https://scikit-learn.org/stable/modules/generated/sklearn.linear_model.SGDClassifier.html.\n",
    "Note that loss='log' gives logistic regression."
   ]
  },
  {
   "cell_type": "code",
   "execution_count": null,
   "metadata": {},
   "outputs": [],
   "source": [
    "y = insurance_data['target']\n",
    "X = insurance_data.drop(columns=['target'])"
   ]
  },
  {
   "cell_type": "code",
   "execution_count": 84,
   "metadata": {},
   "outputs": [
    {
     "name": "stdout",
     "output_type": "stream",
     "text": [
      "['ps_ind_01', 'ps_ind_03', 'ps_ind_14', 'ps_ind_15', 'ps_reg_01', 'ps_reg_02', 'ps_reg_03', 'ps_car_11', 'ps_car_12', 'ps_car_13', 'ps_car_14', 'ps_car_15', 'ps_calc_01', 'ps_calc_02', 'ps_calc_03', 'ps_calc_04', 'ps_calc_05', 'ps_calc_06', 'ps_calc_07', 'ps_calc_08', 'ps_calc_09', 'ps_calc_10', 'ps_calc_11', 'ps_calc_12', 'ps_calc_13', 'ps_calc_14']\n"
     ]
    }
   ],
   "source": [
    "numeric_features = [column for column in X if not (column.endswith(\"cat\") or column.endswith(\"bin\"))]\n",
    "\n",
    "numeric_transformer = Pipeline(steps=[('scaler', StandardScaler())])\n",
    "\n",
    "categorical_features = [column for column in X if (column.endswith(\"cat\") or column.endswith(\"bin\"))]\n",
    "categorical_transformer = Pipeline(steps=[('encoder', OneHotEncoder(handle_unknown='ignore'))])\n",
    "\n",
    "preprocessor = ColumnTransformer(\n",
    "    transformers=[\n",
    "        ('num', numeric_transformer, numeric_features),\n",
    "        ('cat', categorical_transformer, categorical_features)])\n",
    "\n",
    "pipeline = Pipeline(steps=[('preprocessor', preprocessor),\n",
    "                           ('classifier', SGDClassifier(loss='log', alpha=0.001, n_jobs=-1, random_state=14))])"
   ]
  },
  {
   "cell_type": "code",
   "execution_count": null,
   "metadata": {},
   "outputs": [],
   "source": [
    "X_train, X_valid, y_train, y_valid = train_test_split(X, y, test_size=0.3, random_state=42)"
   ]
  },
  {
   "cell_type": "code",
   "execution_count": null,
   "metadata": {},
   "outputs": [],
   "source": [
    "clf = pipeline.fit(X_train, y_train)"
   ]
  },
  {
   "cell_type": "markdown",
   "metadata": {},
   "source": [
    "We'll calculate the model accuracy:"
   ]
  },
  {
   "cell_type": "code",
   "execution_count": null,
   "metadata": {},
   "outputs": [],
   "source": [
    "accuracy_score(y_true=y_valid, y_pred=clf.predict(X_valid))"
   ]
  },
  {
   "cell_type": "markdown",
   "metadata": {},
   "source": [
    "Wow! Our model gets ~0.963 accuracy! But is it really good?...\n",
    "\n",
    "Let's plot the confusion matrix and analyze the errors."
   ]
  },
  {
   "cell_type": "code",
   "execution_count": null,
   "metadata": {},
   "outputs": [],
   "source": [
    "disp = plot_confusion_matrix(clf, X_valid, y_valid,\n",
    "                             cmap=plt.cm.Blues,\n",
    "                             normalize=None)"
   ]
  },
  {
   "cell_type": "markdown",
   "metadata": {},
   "source": [
    "Well, it turns out that our model is completely useless. Let's calculate some basic statistics:"
   ]
  },
  {
   "cell_type": "code",
   "execution_count": null,
   "metadata": {
    "scrolled": true
   },
   "outputs": [],
   "source": [
    "insurance_data.describe()"
   ]
  },
  {
   "cell_type": "markdown",
   "metadata": {},
   "source": [
    "As you see, there are less than 4% of positive examples, so we have to deal with a highly imbalanced dataset."
   ]
  },
  {
   "cell_type": "code",
   "execution_count": null,
   "metadata": {},
   "outputs": [],
   "source": [
    "sns.countplot(x='target', data=insurance_data)\n",
    "plt.show()"
   ]
  },
  {
   "cell_type": "markdown",
   "metadata": {},
   "source": [
    "Accuracy is not informative here and the Normalized Gini Coefficient will be used instead: https://www.kaggle.com/c/porto-seguro-safe-driver-prediction/overview/evaluation."
   ]
  },
  {
   "cell_type": "code",
   "execution_count": null,
   "metadata": {},
   "outputs": [],
   "source": [
    "# Code for calculating Normalized gini coefficient\n",
    "# https://www.kaggle.com/c/ClaimPredictionChallenge/discussion/703\n",
    "def gini(actual, pred, cmpcol = 0, sortcol = 1):  \n",
    "    assert(len(actual) == len(pred))  \n",
    "    epsilon = 1e-7\n",
    "    values = np.asarray(np.c_[actual, pred, np.arange(len(actual))], dtype=np.float)  \n",
    "    values = values[np.lexsort((values[:, 2], -1 * values[:, 1]))]  \n",
    "    total = values[:, 0].sum() \n",
    "    gini_sum = (values[:, 0].cumsum().sum() + epsilon) / (total + epsilon)  \n",
    "  \n",
    "    gini_sum -= (len(actual) + 1) / 2  \n",
    "    return gini_sum / len(actual)  \n",
    "  \n",
    "def gini_normalized(a, p):  \n",
    "    '''Function to calculate the normalized gini coefficient'''\n",
    "    return gini(a, p) / gini(a, a)"
   ]
  },
  {
   "cell_type": "markdown",
   "metadata": {},
   "source": [
    "**(1.5 points)** Prove that the **Normalized Gini Coefficient** is equivalent to **2 x AUC - 1** :"
   ]
  },
  {
   "cell_type": "markdown",
   "metadata": {},
   "source": [
    "< your proof >\n",
    "I can copypast acrticle with mathematical prove from https://habr.com/ru/company/ods/blog/350440/ but i think without clearly understanding it is helpless"
   ]
  },
  {
   "cell_type": "markdown",
   "metadata": {},
   "source": [
    "**(0.5 points)** By the way, what other metrics could you suggest for this problem?"
   ]
  },
  {
   "cell_type": "markdown",
   "metadata": {},
   "source": [
    "< your thoughts >"
   ]
  },
  {
   "cell_type": "markdown",
   "metadata": {},
   "source": [
    "Let's calculate the Normalized Gini Coefficient:"
   ]
  },
  {
   "cell_type": "code",
   "execution_count": null,
   "metadata": {},
   "outputs": [],
   "source": [
    "y_pred = clf.predict_proba(X_valid)[:, 1]"
   ]
  },
  {
   "cell_type": "code",
   "execution_count": null,
   "metadata": {},
   "outputs": [],
   "source": [
    "gini_normalized(y_valid, y_pred)"
   ]
  },
  {
   "cell_type": "markdown",
   "metadata": {},
   "source": [
    "**(0.5 points + Y bonus points)** Try different approaches: oversampling / undersampling, careful feature analysis and feature engineering, etc., to get a reasonable pipeline and improve the model quality. Use cross-validation for model evaluation.\n",
    "\n",
    "Select the best model, load the test set and make the predictions. Submit them to kaggle.\n",
    "Y bonus points will be calculated as $\\frac{round(200 * \\max(score - 0.253, 0))}{2}$, where *score* is your kaggle leaderboard score.\n",
    "\n",
    "Note: do not use any classification models which have not been covered in the lessons yet."
   ]
  },
  {
   "cell_type": "code",
   "execution_count": null,
   "metadata": {},
   "outputs": [],
   "source": [
    "## your code\n",
    "insurance_data = pd.read_csv(os.path.join(PATH, 'porto', 'train.csv'))\n",
    "insurance_test = pd.read_csv(os.path.join(PATH, 'porto', 'test.csv'))\n",
    "\n",
    "y = insurance_data['target']\n",
    "X = insurance_data.drop(columns=['target', 'id'])\n",
    "\n",
    "X_data_test_id  = insurance_test['id']\n",
    "X_data_test     = insurance_test.drop(columns=['id'])\n",
    "\n",
    "X_train, X_valid, y_train, y_valid = train_test_split(X, y, test_size = 0.3, stratify = y, random_state = 14)\n",
    "\n",
    "\n",
    "\n",
    "gini_lr2 = {}\n",
    "alpha = [0.0001,0.001,0.01,0.03]\n",
    "for i in alpha:\n",
    "    lr = SGDClassifier(loss='log', alpha=i, penalty = 'l1', n_jobs=-1)\n",
    "    lr.fit(X_train, y_train)  \n",
    "    gini_lr2[i] = gini_normalized(y_valid, lr.predict_proba(X_valid)[:,1])\n",
    "\n",
    "print(gini_lr2)\n",
    "pipeline = Pipeline(steps=[('preprocessor', preprocessor),\n",
    "                           ('classifier', SGDClassifier(loss='log', alpha=0.01, n_jobs=-1, random_state=14))])\n",
    "\n",
    "clf = pipeline.fit(X_train, y_train)\n",
    "y_data_test = clf.predict_proba(X_data_test)[:,1]\n",
    "#print(y_data_test)\n",
    "\n",
    "def saveResultToCsv(idData, SurvivedResult, filename='Titanic Predictions.csv'):\n",
    "    submission = pd.DataFrame({'id':idData,'target':SurvivedResult})\n",
    "    submission.id = submission.id.astype(int)\n",
    "    #submission.target = submission.target.astype(float)\n",
    "\n",
    "    submission.to_csv(filename,index=False)  \n",
    "\n",
    "saveResultToCsv(X_data_test_id, y_data_test, 'kaggleSubmit3.csv')\n",
    "\n",
    "\n"
   ]
  },
  {
   "cell_type": "code",
   "execution_count": null,
   "metadata": {},
   "outputs": [],
   "source": []
  },
  {
   "cell_type": "code",
   "execution_count": null,
   "metadata": {},
   "outputs": [],
   "source": []
  }
 ],
 "metadata": {
  "kernelspec": {
   "display_name": "Python 3",
   "language": "python",
   "name": "python3"
  },
  "language_info": {
   "codemirror_mode": {
    "name": "ipython",
    "version": 3
   },
   "file_extension": ".py",
   "mimetype": "text/x-python",
   "name": "python",
   "nbconvert_exporter": "python",
   "pygments_lexer": "ipython3",
   "version": "3.8.5"
  }
 },
 "nbformat": 4,
 "nbformat_minor": 4
}
